{
 "cells": [
  {
   "cell_type": "code",
   "execution_count": null,
   "metadata": {},
   "outputs": [],
   "source": [
    "import json\n",
    "import os\n",
    "import numpy as np"
   ]
  },
  {
   "cell_type": "code",
   "execution_count": null,
   "metadata": {},
   "outputs": [],
   "source": [
    "finetuned_dirs_path = \"../../finetuned_models/\"\n",
    "predefined_dirs_path = \"../../pretrained_models/\""
   ]
  },
  {
   "cell_type": "code",
   "execution_count": null,
   "metadata": {},
   "outputs": [],
   "source": [
    "finetuned_dirs = os.listdir(finetuned_dirs_path)\n",
    "predefined_dirs = os.listdir(predefined_dirs_path)"
   ]
  },
  {
   "cell_type": "code",
   "execution_count": null,
   "metadata": {},
   "outputs": [],
   "source": [
    "finetuned_res = {}\n",
    "\n",
    "for finetuned_dir in finetuned_dirs:\n",
    "    for model in os.listdir(finetuned_dirs_path + finetuned_dir):\n",
    "        if model == \"deciwatch_1683364630.893455\":\n",
    "            continue\n",
    "        \n",
    "        train_losses = np.load(finetuned_dirs_path + finetuned_dir + \"/\" + model + \"/train_losses.npy\").tolist()\n",
    "        val_losses = np.load(finetuned_dirs_path + finetuned_dir + \"/\" + model + \"/val_losses.npy\").tolist()\n",
    "        val_accs = np.load(finetuned_dirs_path + finetuned_dir + \"/\" + model + \"/val_accs.npy\").tolist()\n",
    "        \n",
    "        config = json.load(open(predefined_dirs_path + finetuned_dir + \"/\" + model + \"/config.json\", \"r\"))\n",
    "        input_name = config[\"data_params\"][\"input_name\"]\n",
    "        interval_skip = config[\"data_params\"][\"interval_skip\"]\n",
    "        noise_scalar = config[\"data_params\"][\"noise_scalar\"]\n",
    "        \n",
    "        config_dict = {\"input_name\": input_name, \"interval_skip\": interval_skip, \"noise_scalar\": noise_scalar}\n",
    "        \n",
    "        finetuned_res[model] = {\"config\": config_dict, \"train_losses\": train_losses, \"val_losses\": val_losses, \"val_accs\": val_accs}\n",
    "\n",
    "with open(\"./finetuned_res.json\", \"w\") as f:\n",
    "    json.dump(finetuned_res, f, indent=4)"
   ]
  }
 ],
 "metadata": {
  "language_info": {
   "name": "python"
  },
  "orig_nbformat": 4
 },
 "nbformat": 4,
 "nbformat_minor": 2
}
