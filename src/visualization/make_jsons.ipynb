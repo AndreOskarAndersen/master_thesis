{
 "cells": [
  {
   "cell_type": "code",
   "execution_count": 5,
   "metadata": {},
   "outputs": [],
   "source": [
    "import json\n",
    "import os\n",
    "import numpy as np"
   ]
  },
  {
   "cell_type": "code",
   "execution_count": 6,
   "metadata": {},
   "outputs": [],
   "source": [
    "finetuned_dirs_path = \"../../finetuned_models/\"\n",
    "predefined_dirs_path = \"../../pretrained_models/\""
   ]
  },
  {
   "cell_type": "code",
   "execution_count": 7,
   "metadata": {},
   "outputs": [],
   "source": [
    "finetuned_dirs = os.listdir(finetuned_dirs_path)\n",
    "predefined_dirs = os.listdir(predefined_dirs_path)"
   ]
  },
  {
   "cell_type": "code",
   "execution_count": 8,
   "metadata": {},
   "outputs": [],
   "source": [
    "finetuned_res = {}\n",
    "\n",
    "for finetuned_dir in finetuned_dirs:\n",
    "    for model in os.listdir(finetuned_dirs_path + finetuned_dir):\n",
    "        \n",
    "        train_losses = np.load(finetuned_dirs_path + finetuned_dir + \"/\" + model + \"/train_losses.npy\").tolist()\n",
    "        val_losses = np.load(finetuned_dirs_path + finetuned_dir + \"/\" + model + \"/val_losses.npy\").tolist()\n",
    "        val_accs = np.load(finetuned_dirs_path + finetuned_dir + \"/\" + model + \"/val_accs.npy\").tolist()\n",
    "        \n",
    "        config = json.load(open(predefined_dirs_path + finetuned_dir + \"/\" + model.replace(\"newdeciwatch\", \"deciwatch\") + \"/config.json\", \"r\"))\n",
    "        input_name = config[\"data_params\"][\"input_name\"]\n",
    "        interval_skip = config[\"data_params\"][\"interval_skip\"]\n",
    "        noise_scalar = config[\"data_params\"][\"noise_scalar\"]\n",
    "        \n",
    "        config_dict = {\"input_name\": input_name, \"interval_skip\": interval_skip, \"noise_scalar\": noise_scalar}\n",
    "        \n",
    "        finetuned_res[model] = {\"config\": config_dict, \"train_losses\": train_losses, \"val_losses\": val_losses, \"val_accs\": val_accs}\n",
    "\n",
    "with open(\"./finetuned_res.json\", \"w\") as f:\n",
    "    json.dump(finetuned_res, f, indent=4)"
   ]
  }
 ],
 "metadata": {
  "kernelspec": {
   "display_name": "venv",
   "language": "python",
   "name": "python3"
  },
  "language_info": {
   "codemirror_mode": {
    "name": "ipython",
    "version": 3
   },
   "file_extension": ".py",
   "mimetype": "text/x-python",
   "name": "python",
   "nbconvert_exporter": "python",
   "pygments_lexer": "ipython3",
   "version": "3.8.2"
  },
  "orig_nbformat": 4
 },
 "nbformat": 4,
 "nbformat_minor": 2
}
