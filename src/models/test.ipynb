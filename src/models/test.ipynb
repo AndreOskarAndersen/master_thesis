{
 "cells": [
  {
   "cell_type": "code",
   "execution_count": 1,
   "metadata": {},
   "outputs": [],
   "source": [
    "import torch\n",
    "import torch.nn as nn\n",
    "from deciwatch import PositionEmbeddingSine_1D"
   ]
  },
  {
   "cell_type": "code",
   "execution_count": 118,
   "metadata": {},
   "outputs": [],
   "source": [
    "class LSTM(nn.Module):\n",
    "    def __init__(self, num_keypoints, keypoints_dim, num_layers, dropout, bidirectional):\n",
    "        super(LSTM, self).__init__()\n",
    "        \n",
    "        self.num_layers = num_layers\n",
    "        self.num_keypoints = num_keypoints\n",
    "        self.keypoints_dim = keypoints_dim\n",
    "        self.D = 2 if bidirectional else 1\n",
    "        \n",
    "        self.lstm = nn.LSTM(input_size=num_keypoints * keypoints_dim, hidden_size=num_keypoints * keypoints_dim, num_layers=num_layers, batch_first=True, dropout=dropout, bidirectional=bidirectional)\n",
    "        self.linear = nn.Linear(self.D * keypoints_dim * num_keypoints, keypoints_dim * num_keypoints)\n",
    "        \n",
    "        self.relu = nn.ReLU()\n",
    "        \n",
    "        for p in self.parameters():\n",
    "            if p.dim() > 1:\n",
    "                nn.init.xavier_uniform_(p)\n",
    "    \n",
    "    def forward(self, x):\n",
    "        out, _ = self.lstm(x)\n",
    "            \n",
    "        out = self.linear(out)\n",
    "        out = self.relu(out)\n",
    "        \n",
    "        return out\n",
    "        "
   ]
  },
  {
   "cell_type": "code",
   "execution_count": 2,
   "metadata": {},
   "outputs": [],
   "source": [
    "class Transformer(nn.Module):\n",
    "    def __init__(self, d_model: int, nhead: int, num_layers: int, dim_feedforward: int, dropout: float, keypoints_numel: int, batch_size: int, window_size: int, device: torch.device):\n",
    "        super(Transformer, self).__init__()\n",
    "        \n",
    "        self.device = device\n",
    "        \n",
    "        self.embedder = nn.Linear(keypoints_numel, d_model)\n",
    "        self.transformer_encoder = nn.TransformerEncoder(nn.TransformerEncoderLayer(d_model, nhead, dim_feedforward, dropout, batch_first=True), num_layers, nn.LayerNorm(d_model))\n",
    "        self.mapper = nn.Linear(d_model, keypoints_numel)\n",
    "        \n",
    "        self.positional_encoding = PositionEmbeddingSine_1D(d_model//2, device)(batch_size, window_size).permute(1, 0, 2)\n",
    "        self.dropout = nn.Dropout(dropout)\n",
    "        \n",
    "        self.x_mask = nn.Transformer.generate_square_subsequent_mask(window_size, device=device) # NOTE: Mask er måske ikke nødvendig\n",
    "        \n",
    "        for p in self.parameters():\n",
    "            if p.dim() > 1:\n",
    "                nn.init.xavier_uniform_(p)\n",
    "\n",
    "    def forward(self, x: torch.Tensor):\n",
    "        x_embed = self.dropout(self.embedder(x) + self.positional_encoding)\n",
    "        \n",
    "        preds = self.transformer_encoder(x_embed, self.x_mask)\n",
    "        preds = self.mapper(preds)\n",
    "        \n",
    "        return preds"
   ]
  },
  {
   "cell_type": "code",
   "execution_count": 3,
   "metadata": {},
   "outputs": [],
   "source": [
    "batch_size = 8\n",
    "num_keypoints = 16\n",
    "keypoints_dim = 2\n",
    "keypoints_numel = num_keypoints * keypoints_dim\n",
    "window_size = 5\n",
    "video_sequence = torch.rand(batch_size, window_size, num_keypoints * keypoints_dim)"
   ]
  },
  {
   "cell_type": "code",
   "execution_count": 4,
   "metadata": {},
   "outputs": [
    {
     "name": "stdout",
     "output_type": "stream",
     "text": [
      "torch.Size([8, 5, 32])\n"
     ]
    }
   ],
   "source": [
    "device = torch.device(\"cuda\" if torch.cuda.is_available() else \"cpu\")\n",
    "d_model = 512\n",
    "nhead = 8\n",
    "num_layers = 6\n",
    "dim_feedforward = 2048\n",
    "dropout = 0.1\n",
    "\n",
    "transformer = Transformer(d_model, nhead, num_layers, dim_feedforward, dropout, keypoints_numel, batch_size, window_size, device)\n",
    "pred = transformer(video_sequence)\n",
    "print(pred.shape)"
   ]
  },
  {
   "cell_type": "code",
   "execution_count": null,
   "metadata": {},
   "outputs": [
    {
     "name": "stdout",
     "output_type": "stream",
     "text": [
      "torch.Size([8, 5, 32])\n"
     ]
    },
    {
     "ename": "RuntimeError",
     "evalue": "Tensors must have same number of dimensions: got 2 and 3",
     "output_type": "error",
     "traceback": [
      "\u001b[0;31m---------------------------------------------------------------------------\u001b[0m",
      "\u001b[0;31mRuntimeError\u001b[0m                              Traceback (most recent call last)",
      "Cell \u001b[0;32mIn[172], line 4\u001b[0m\n\u001b[1;32m      2\u001b[0m \u001b[39mprint\u001b[39m(a\u001b[39m.\u001b[39mshape)\n\u001b[1;32m      3\u001b[0m b \u001b[39m=\u001b[39m torch\u001b[39m.\u001b[39mrand(window_size, num_keypoints \u001b[39m*\u001b[39m keypoints_dim)\n\u001b[0;32m----> 4\u001b[0m \u001b[39mprint\u001b[39m(torch\u001b[39m.\u001b[39;49mconcat((b, a), dim\u001b[39m=\u001b[39;49m\u001b[39m1\u001b[39;49m)\u001b[39m.\u001b[39mshape)\n",
      "\u001b[0;31mRuntimeError\u001b[0m: Tensors must have same number of dimensions: got 2 and 3"
     ]
    }
   ],
   "source": [
    "a = torch.rand(batch_size, window_size, num_keypoints * keypoints_dim)\n",
    "print(a.shape)\n",
    "b = torch.rand(window_size, num_keypoints * keypoints_dim)\n",
    "print(torch.concat((b, a), dim=1).shape)"
   ]
  },
  {
   "cell_type": "code",
   "execution_count": 119,
   "metadata": {},
   "outputs": [
    {
     "name": "stdout",
     "output_type": "stream",
     "text": [
      "torch.Size([1, 5, 32])\n",
      "torch.Size([1, 5, 32])\n"
     ]
    }
   ],
   "source": [
    "num_layers = 2\n",
    "dropout = 0\n",
    "bidirectional = False\n",
    "lstm = LSTM(num_keypoints, keypoints_dim, num_layers, dropout, bidirectional)\n",
    "\n",
    "#pred_old = lstm.forward_old(video_sequence)\n",
    "#print(pred_old.shape)\n",
    "\n",
    "pred_new = lstm(video_sequence)\n",
    "print(pred_new.shape)"
   ]
  },
  {
   "cell_type": "code",
   "execution_count": 209,
   "metadata": {},
   "outputs": [
    {
     "name": "stdout",
     "output_type": "stream",
     "text": [
      "torch.Size([8, 5, 32])\n"
     ]
    },
    {
     "data": {
      "text/plain": [
       "torch.Size([8, 6, 32])"
      ]
     },
     "execution_count": 209,
     "metadata": {},
     "output_type": "execute_result"
    }
   ],
   "source": [
    "a = torch.ones((video_sequence.shape[0], 1, video_sequence.shape[2]))\n",
    "print(video_sequence.shape)\n",
    "torch.cat((video_sequence, a), dim=1).shape"
   ]
  },
  {
   "cell_type": "code",
   "execution_count": null,
   "metadata": {},
   "outputs": [],
   "source": []
  },
  {
   "cell_type": "code",
   "execution_count": null,
   "metadata": {},
   "outputs": [],
   "source": []
  }
 ],
 "metadata": {
  "kernelspec": {
   "display_name": "venv",
   "language": "python",
   "name": "python3"
  },
  "language_info": {
   "codemirror_mode": {
    "name": "ipython",
    "version": 3
   },
   "file_extension": ".py",
   "mimetype": "text/x-python",
   "name": "python",
   "nbconvert_exporter": "python",
   "pygments_lexer": "ipython3",
   "version": "3.9.0"
  },
  "orig_nbformat": 4,
  "vscode": {
   "interpreter": {
    "hash": "67237f7683762dd1113e06b4caade42e85e7b9a978aac69a0e252d57b1a47dd8"
   }
  }
 },
 "nbformat": 4,
 "nbformat_minor": 2
}
